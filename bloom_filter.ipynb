{
  "nbformat": 4,
  "nbformat_minor": 0,
  "metadata": {
    "colab": {
      "provenance": []
    },
    "kernelspec": {
      "name": "python3",
      "display_name": "Python 3"
    },
    "language_info": {
      "name": "python"
    }
  },
  "cells": [
    {
      "cell_type": "code",
      "source": [
        "!pip install mmh3"
      ],
      "metadata": {
        "colab": {
          "base_uri": "https://localhost:8080/"
        },
        "id": "phRUk9ktvBzP",
        "outputId": "b4c61338-690e-46f9-9f18-f8e74a4ed7e5"
      },
      "execution_count": 2,
      "outputs": [
        {
          "output_type": "stream",
          "name": "stdout",
          "text": [
            "Looking in indexes: https://pypi.org/simple, https://us-python.pkg.dev/colab-wheels/public/simple/\n",
            "Collecting mmh3\n",
            "  Downloading mmh3-3.0.0-cp37-cp37m-manylinux2010_x86_64.whl (50 kB)\n",
            "\u001b[K     |████████████████████████████████| 50 kB 7.5 MB/s \n",
            "\u001b[?25hInstalling collected packages: mmh3\n",
            "Successfully installed mmh3-3.0.0\n"
          ]
        }
      ]
    },
    {
      "cell_type": "code",
      "execution_count": 3,
      "metadata": {
        "id": "UDRcMjH3urgG"
      },
      "outputs": [],
      "source": [
        "import mmh3"
      ]
    },
    {
      "cell_type": "code",
      "source": [
        "words_to_add = [\"bloom\", \"date\", \"tree\"]\n",
        "words_to_check = [\"bloom\", \"date\", \"not\"]\n",
        "mbit_arr_size = 20\n",
        "no_of_hashes = 3\n",
        "mbit_arr = [0 for i in range(mbit_arr_size)]"
      ],
      "metadata": {
        "id": "KXC45xVYvAE0"
      },
      "execution_count": 12,
      "outputs": []
    },
    {
      "cell_type": "code",
      "source": [
        "def get_hash(index, value, size):\n",
        "  return mmh3.hash(value, index) % size"
      ],
      "metadata": {
        "id": "cOFWvspYvVS-"
      },
      "execution_count": 13,
      "outputs": []
    },
    {
      "cell_type": "code",
      "source": [
        "def set_mbit_arr(words):\n",
        "  for i in range(len(words)):\n",
        "    for j in range(no_of_hashes):\n",
        "      hash_val = get_hash(j, words[i], mbit_arr_size)\n",
        "      mbit_arr[hash_val] = 1"
      ],
      "metadata": {
        "id": "27l4fF4pvjVk"
      },
      "execution_count": 14,
      "outputs": []
    },
    {
      "cell_type": "code",
      "source": [
        "def check(word):\n",
        "  for i in range(no_of_hashes):\n",
        "    hash_val = get_hash(i, word, mbit_arr_size)\n",
        "    if mbit_arr[hash_val] == 0:\n",
        "      return False\n",
        "  return True"
      ],
      "metadata": {
        "id": "GE_PlTlAwH6F"
      },
      "execution_count": 17,
      "outputs": []
    },
    {
      "cell_type": "code",
      "source": [
        "set_mbit_arr(words_to_add)"
      ],
      "metadata": {
        "id": "K-hvop_txZyd"
      },
      "execution_count": 18,
      "outputs": []
    },
    {
      "cell_type": "code",
      "source": [
        "for word in words_to_check:\n",
        "  if check(word):\n",
        "    print(f\"{word} may be present\")\n",
        "  else:\n",
        "    print(f\"{word} is definitely absent\")"
      ],
      "metadata": {
        "colab": {
          "base_uri": "https://localhost:8080/"
        },
        "id": "c2ydqWKnxd4I",
        "outputId": "b35e14ff-e862-4bb6-c26a-288ba539be82"
      },
      "execution_count": 19,
      "outputs": [
        {
          "output_type": "stream",
          "name": "stdout",
          "text": [
            "bloom may be present\n",
            "date may be present\n",
            "not is definitely absent\n"
          ]
        }
      ]
    },
    {
      "cell_type": "code",
      "source": [],
      "metadata": {
        "id": "8JswDhqXz1u1"
      },
      "execution_count": null,
      "outputs": []
    }
  ]
}