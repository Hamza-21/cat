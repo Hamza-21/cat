{
  "nbformat": 4,
  "nbformat_minor": 0,
  "metadata": {
    "colab": {
      "provenance": []
    },
    "kernelspec": {
      "name": "python3",
      "display_name": "Python 3"
    },
    "language_info": {
      "name": "python"
    }
  },
  "cells": [
    {
      "cell_type": "code",
      "execution_count": 2,
      "metadata": {
        "id": "JG3tIX-j2U6s"
      },
      "outputs": [],
      "source": [
        "stream = [1,2,3,4,5,6,4,7,2,8,9,1,3,2,5,3,7]\n",
        "maxnum = 0"
      ]
    },
    {
      "cell_type": "code",
      "source": [
        "for i in range(len(stream)):\n",
        "  val = bin(3*stream[i] + 6)[2:]\n",
        "  su = 0\n",
        "  for char in str(val)[::-1]:\n",
        "    if char == '0':\n",
        "      su += 1\n",
        "    else:\n",
        "      break\n",
        "  if su > maxnum:\n",
        "    maxnum = su"
      ],
      "metadata": {
        "id": "TeEMQkHb2g7r"
      },
      "execution_count": 3,
      "outputs": []
    },
    {
      "cell_type": "code",
      "source": [
        "print(\"Distince elements are:\", 2**maxnum)"
      ],
      "metadata": {
        "colab": {
          "base_uri": "https://localhost:8080/"
        },
        "id": "lUjbb88Y3W5C",
        "outputId": "a9853014-f03a-4d7f-d354-0a4d06d0a457"
      },
      "execution_count": 4,
      "outputs": [
        {
          "output_type": "stream",
          "name": "stdout",
          "text": [
            "Distince elements are: 8\n"
          ]
        }
      ]
    },
    {
      "cell_type": "code",
      "source": [],
      "metadata": {
        "id": "aUK2tdNV3cCe"
      },
      "execution_count": null,
      "outputs": []
    }
  ]
}